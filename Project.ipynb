{
  "nbformat": 4,
  "nbformat_minor": 0,
  "metadata": {
    "colab": {
      "name": "Project.ipynb",
      "version": "0.3.2",
      "provenance": [],
      "collapsed_sections": []
    },
    "kernelspec": {
      "name": "python3",
      "display_name": "Python 3"
    }
  },
  "cells": [
    {
      "metadata": {
        "id": "7PO5GqQ4CKyx",
        "colab_type": "code",
        "colab": {}
      },
      "cell_type": "code",
      "source": [
        "!pip install seaborn==0.9.0"
      ],
      "execution_count": 0,
      "outputs": []
    },
    {
      "metadata": {
        "id": "-gfV8pj-Cm5f",
        "colab_type": "code",
        "colab": {}
      },
      "cell_type": "code",
      "source": [
        "import seaborn as sns\n",
        "from google.colab import drive\n",
        "drive.mount('/content/drive')"
      ],
      "execution_count": 0,
      "outputs": []
    },
    {
      "metadata": {
        "id": "aYNV4C76DGRH",
        "colab_type": "code",
        "colab": {}
      },
      "cell_type": "code",
      "source": [
        "import pandas as pd\n",
        "import numpy as np\n",
        "import seaborn as sns\n",
        "import matplotlib.pyplot as plt\n",
        "from sklearn.decomposition import PCA"
      ],
      "execution_count": 0,
      "outputs": []
    },
    {
      "metadata": {
        "id": "b-STN7vfDJVF",
        "colab_type": "code",
        "colab": {}
      },
      "cell_type": "code",
      "source": [
        "df = pd.read_csv('proteinGroups.txt', sep=\"\\t\")"
      ],
      "execution_count": 0,
      "outputs": []
    },
    {
      "metadata": {
        "id": "xDl08yllDOgS",
        "colab_type": "code",
        "colab": {}
      },
      "cell_type": "code",
      "source": [
        "lfq_df = df.set_index(\"Protein IDs\", drop = False)\n",
        "\n",
        "\n",
        "#List of complexes to check\n",
        "BRCA1_complex = ['O60934', 'P49959', 'Q92878']\n",
        "\n",
        "lfq_df = lfq_df.loc[BRCA1_complex,\"LFQ intensity 01OV007\":\"LFQ intensity 17OV026\"]"
      ],
      "execution_count": 0,
      "outputs": []
    },
    {
      "metadata": {
        "id": "BmhiCwLrPeO8",
        "colab_type": "code",
        "colab": {}
      },
      "cell_type": "code",
      "source": [
        "arrayCancer = []\n",
        "\n",
        "#These are the proposed non cancerous id's?\n",
        "arrayNonCancer = ['LFQ intensity 01OV029', 'LFQ intensity 02OV001_NM', \n",
        "                     'LFQ intensity 11OV002_NM', 'LFQ intensity 11OV010_NM', 'LFQ intensity 14OV029_NM']\n",
        "\n",
        "#Create Cancer Array\n",
        "for col in lfq_df:\n",
        "  if(col not in arrayNonCancer):\n",
        "    if '_NM' not in col:\n",
        "      arrayCancer.append(col)\n",
        "    else:\n",
        "      arrayNonCancer.append(col)  \n",
        "\n",
        "#Create 3 nonCancer arrays for each protein\n",
        "nonCancer_O60934 = []\n",
        "nonCancer_P49959 = []\n",
        "nonCancer_Q92878 = []\n",
        "\n",
        "#Create 3 cancer arrays for each protein\n",
        "cancer_O60934 = []\n",
        "cancer_P49959 = []\n",
        "cancer_Q92878 = []\n",
        "\n",
        "#Created these three for the transform..\n",
        "ultimate_value_array = []\n",
        "ultimate_name_array = []\n",
        "ultimate_canc_nonCanc_array = []\n",
        "\n",
        "#------------------------------------------\n",
        "for i in lfq_df.loc['P49959', arrayCancer]:\n",
        "  ultimate_value_array.append(i)\n",
        "  ultimate_name_array.append('P49959')\n",
        "  ultimate_canc_nonCanc_array.append('Yes')\n",
        "  cancer_P49959.append(i)\n",
        "  \n",
        "for i in lfq_df.loc['P49959', arrayNonCancer]:\n",
        "  ultimate_value_array.append(i)\n",
        "  ultimate_name_array.append('P49959_nc')\n",
        "  ultimate_canc_nonCanc_array.append('No')\n",
        "  nonCancer_P49959.append(i)\n",
        "#------------------------------------------\n",
        "\n",
        "#------------------------------------------  \n",
        "for i in lfq_df.loc['Q92878', arrayCancer]:\n",
        "  ultimate_value_array.append(i)\n",
        "  ultimate_name_array.append('Q92878')\n",
        "  ultimate_canc_nonCanc_array.append('Yes')\n",
        "  cancer_Q92878.append(i)\n",
        "  \n",
        "for i in lfq_df.loc['Q92878', arrayNonCancer]:\n",
        "  ultimate_value_array.append(i)\n",
        "  ultimate_name_array.append('Q92878_nc')\n",
        "  ultimate_canc_nonCanc_array.append('No')\n",
        "  nonCancer_Q92878.append(i)\n",
        "#------------------------------------------"
      ],
      "execution_count": 0,
      "outputs": []
    },
    {
      "metadata": {
        "id": "bB0rley3cxkC",
        "colab_type": "code",
        "colab": {}
      },
      "cell_type": "code",
      "source": [
        "pca = PCA(n_components=2)\n",
        "\n",
        "#Scatter plot for log transforms\n",
        "lfq_non_cancerous_df = lfq_df.loc[BRCA1_complex,arrayNonCancer]\n",
        "lfq_cancerous_df = lfq_df.loc[BRCA1_complex,arrayCancer]\n",
        "\n",
        "pcs_log_non_cancerous_df = pd.DataFrame(pca.fit_transform(((lfq_non_cancerous_df + 1) + 1).apply(np.log)))\n",
        "pcs_log_cancerous_df = pd.DataFrame(pca.fit_transform(((lfq_cancerous_df + 1) + 1).apply(np.log)))\n",
        "\n",
        "log_data_non_cancerous = sns.scatterplot(x=0, y=1, data=pcs_log_non_cancerous_df)\n",
        "log_data_cancerous = sns.scatterplot(x=0, y=1, data=pcs_log_cancerous_df)\n",
        "\n",
        "#Scatter plot for non_log transforms\n",
        "lfq_non_cancerous_df = lfq_df.loc[BRCA1_complex,arrayNonCancer]\n",
        "lfq_cancerous_df = lfq_df.loc[BRCA1_complex,arrayCancer]\n",
        "\n",
        "pcs_non_log_non_cancerous = pd.DataFrame(pca.fit_transform((lfq_non_cancerous_df + 1)))\n",
        "pcs_non_log_cancerous = pd.DataFrame(pca.fit_transform((lfq_cancerous_df + 1)))\n",
        "\n",
        "non_log_data_non_cancerous = sns.scatterplot(x=0, y=1, data=pcs_non_log_non_cancerous)\n",
        "non_log_data_cancerous = sns.scatterplot(x=0, y=1, data=pcs_non_log_cancerous)"
      ],
      "execution_count": 0,
      "outputs": []
    },
    {
      "metadata": {
        "id": "zJ8yZikk1jAi",
        "colab_type": "code",
        "outputId": "a5d3819c-fd0c-441f-eb6e-5453848125ec",
        "colab": {
          "base_uri": "https://localhost:8080/",
          "height": 295
        }
      },
      "cell_type": "code",
      "source": [
        "# Set theme\n",
        "sns.set_style('whitegrid')\n",
        "\n",
        "ultimate = {'cancer': ultimate_canc_nonCanc_array,\n",
        "            'Protein IDs': ultimate_name_array,\n",
        "             'LFQ transformed abundance': ultimate_value_array}\n",
        "\n",
        "df_ultimate = pd.DataFrame(data = ultimate)\n",
        "df_ultimate = df_ultimate.set_index(\"cancer\", drop = False)\n",
        "ax = sns.boxplot(x = \"Protein IDs\", y = \"LFQ transformed abundance\", data = df_ultimate, \n",
        "                 hue = 'cancer', palette=\"Set3\", linewidth=.5)\n",
        "\n",
        "ax = sns.swarmplot(x = \"Protein IDs\", y = \"LFQ transformed abundance\", data = df_ultimate, \n",
        "                 color=\".75\", linewidth=1)\n",
        "\n",
        "ax.set_title('Protein Abundance in BRCA1 Complex')\n",
        "br = ax.set_xticklabels(['P49959', 'P49959', 'Q92878', 'Q92878'])"
      ],
      "execution_count": 0,
      "outputs": [
        {
          "output_type": "display_data",
          "data": {
            "image/png": "[encoded data removed]",
            "text/plain": [
              "<Figure size 432x288 with 1 Axes>"
            ]
          },
          "metadata": {
            "tags": []
          }
        }
      ]
    },
    {
      "metadata": {
        "id": "TcGKvIH7C4sU",
        "colab_type": "text"
      },
      "cell_type": "markdown",
      "source": [
        "### caption:\n",
        "Figure 1. Protein abundances for two of the four members of the BRCA1 complex. "
      ]
    }
  ]
}